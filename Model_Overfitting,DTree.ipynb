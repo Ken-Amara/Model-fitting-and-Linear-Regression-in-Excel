{
  "nbformat": 4,
  "nbformat_minor": 0,
  "metadata": {
    "colab": {
      "provenance": []
    },
    "kernelspec": {
      "name": "python3",
      "display_name": "Python 3"
    },
    "language_info": {
      "name": "python"
    }
  },
  "cells": [
    {
      "cell_type": "code",
      "execution_count": 237,
      "metadata": {
        "id": "bGT6s2KljY9z"
      },
      "outputs": [],
      "source": []
    },
    {
      "cell_type": "markdown",
      "source": [
        "Synthetic data\n",
        "\n",
        "1500 instances - 0 or 1 - binary problem\n",
        "\n",
        "class 1 3 Gaussian distribution - [6,14], [10,6][14,14]\n",
        "\n",
        "class 0 - Uniform distribution - 20\n"
      ],
      "metadata": {
        "id": "7TB5mSyZjt4Q"
      }
    },
    {
      "cell_type": "code",
      "source": [
        "import numpy as np"
      ],
      "metadata": {
        "id": "f84YoSXLkbBY"
      },
      "execution_count": 238,
      "outputs": []
    },
    {
      "cell_type": "code",
      "source": [
        "import matplotlib.pyplot as plt\n"
      ],
      "metadata": {
        "id": "bFyzEJf5kcu5"
      },
      "execution_count": 239,
      "outputs": []
    },
    {
      "cell_type": "code",
      "source": [
        "#matplotlib inline"
      ],
      "metadata": {
        "id": "IiqaitIUkjMo"
      },
      "execution_count": 240,
      "outputs": []
    },
    {
      "cell_type": "code",
      "source": [
        "from numpy.random import random"
      ],
      "metadata": {
        "id": "sDV4OhMAkmof"
      },
      "execution_count": 241,
      "outputs": []
    },
    {
      "cell_type": "code",
      "source": [
        "N=1500"
      ],
      "metadata": {
        "id": "_HJO1Rgxksfs"
      },
      "execution_count": 242,
      "outputs": []
    },
    {
      "cell_type": "code",
      "source": [
        "mean1=[6,14]"
      ],
      "metadata": {
        "id": "AQrc4WUcku_p"
      },
      "execution_count": 243,
      "outputs": []
    },
    {
      "cell_type": "code",
      "source": [
        "mean2=[10,6]"
      ],
      "metadata": {
        "id": "Mizd7_qYk0oj"
      },
      "execution_count": 244,
      "outputs": []
    },
    {
      "cell_type": "code",
      "source": [
        "mean3=[14,14]"
      ],
      "metadata": {
        "id": "VHHqrA1kk3lI"
      },
      "execution_count": 245,
      "outputs": []
    },
    {
      "cell_type": "code",
      "source": [
        "cov=[[3.5, 0],[0,3.5]]"
      ],
      "metadata": {
        "id": "xkoBIOw2k6cY"
      },
      "execution_count": 246,
      "outputs": []
    },
    {
      "cell_type": "code",
      "source": [
        "cov"
      ],
      "metadata": {
        "colab": {
          "base_uri": "https://localhost:8080/"
        },
        "id": "BvL8dPrclAnv",
        "outputId": "0b81adbb-ed7f-4963-cc55-2ac0686ba065"
      },
      "execution_count": 247,
      "outputs": [
        {
          "output_type": "execute_result",
          "data": {
            "text/plain": [
              "[[3.5, 0], [0, 3.5]]"
            ]
          },
          "metadata": {},
          "execution_count": 247
        }
      ]
    },
    {
      "cell_type": "code",
      "source": [
        "np.random.seed(50)"
      ],
      "metadata": {
        "id": "SwLbuVSalBSr"
      },
      "execution_count": 248,
      "outputs": []
    },
    {
      "cell_type": "code",
      "source": [
        "X=np.random.multivariate_normal(mean1,cov, int(N/6))"
      ],
      "metadata": {
        "id": "R2y8R6pHly1Y"
      },
      "execution_count": 249,
      "outputs": []
    },
    {
      "cell_type": "code",
      "source": [
        "X.shape"
      ],
      "metadata": {
        "colab": {
          "base_uri": "https://localhost:8080/"
        },
        "id": "BUpnW80LmD8B",
        "outputId": "f280cc83-9a6b-4b3c-9f02-ab2248cfc46c"
      },
      "execution_count": 250,
      "outputs": [
        {
          "output_type": "execute_result",
          "data": {
            "text/plain": [
              "(250, 2)"
            ]
          },
          "metadata": {},
          "execution_count": 250
        }
      ]
    },
    {
      "cell_type": "code",
      "source": [
        "X[0]"
      ],
      "metadata": {
        "colab": {
          "base_uri": "https://localhost:8080/"
        },
        "id": "jOsCYxEemE1_",
        "outputId": "5a0bb445-6192-47cd-c886-cdec82058330"
      },
      "execution_count": 251,
      "outputs": [
        {
          "output_type": "execute_result",
          "data": {
            "text/plain": [
              "array([ 3.0808485 , 13.94204621])"
            ]
          },
          "metadata": {},
          "execution_count": 251
        }
      ]
    },
    {
      "cell_type": "code",
      "source": [],
      "metadata": {
        "id": "AcSQtUYHLYtt"
      },
      "execution_count": 251,
      "outputs": []
    },
    {
      "cell_type": "code",
      "source": [
        "X[:,1].sum()"
      ],
      "metadata": {
        "colab": {
          "base_uri": "https://localhost:8080/"
        },
        "id": "6csF7udwmPCq",
        "outputId": "3b9e2916-0d06-4375-9cba-3ba2826715a9"
      },
      "execution_count": 252,
      "outputs": [
        {
          "output_type": "execute_result",
          "data": {
            "text/plain": [
              "3447.8139448036873"
            ]
          },
          "metadata": {},
          "execution_count": 252
        }
      ]
    },
    {
      "cell_type": "code",
      "source": [
        "3447.8139448036873/250"
      ],
      "metadata": {
        "colab": {
          "base_uri": "https://localhost:8080/"
        },
        "id": "Foiq6K-emTjz",
        "outputId": "cedd01f8-b380-476a-e6c5-4adc65286334"
      },
      "execution_count": 253,
      "outputs": [
        {
          "output_type": "execute_result",
          "data": {
            "text/plain": [
              "13.79125577921475"
            ]
          },
          "metadata": {},
          "execution_count": 253
        }
      ]
    },
    {
      "cell_type": "code",
      "source": [
        "X= np.concatenate((X, np.random.multivariate_normal(mean2, cov, int(N/6))))"
      ],
      "metadata": {
        "id": "A3VYoSrTmbzG"
      },
      "execution_count": 254,
      "outputs": []
    },
    {
      "cell_type": "code",
      "source": [
        "X.shape"
      ],
      "metadata": {
        "colab": {
          "base_uri": "https://localhost:8080/"
        },
        "id": "o_T8LDStm8y4",
        "outputId": "775e16eb-de0e-400d-c54f-d915ebf94095"
      },
      "execution_count": 255,
      "outputs": [
        {
          "output_type": "execute_result",
          "data": {
            "text/plain": [
              "(500, 2)"
            ]
          },
          "metadata": {},
          "execution_count": 255
        }
      ]
    },
    {
      "cell_type": "code",
      "source": [
        "X= np.concatenate((X, np.random.multivariate_normal(mean3, cov, int(N/6))))"
      ],
      "metadata": {
        "id": "hy0ZMBZdnQFP"
      },
      "execution_count": 256,
      "outputs": []
    },
    {
      "cell_type": "code",
      "source": [
        "X.shape"
      ],
      "metadata": {
        "colab": {
          "base_uri": "https://localhost:8080/"
        },
        "id": "te7uxEh9namI",
        "outputId": "a30c8c22-6015-44cf-8ea0-69006f32c240"
      },
      "execution_count": 257,
      "outputs": [
        {
          "output_type": "execute_result",
          "data": {
            "text/plain": [
              "(750, 2)"
            ]
          },
          "metadata": {},
          "execution_count": 257
        }
      ]
    },
    {
      "cell_type": "code",
      "source": [
        "X=np.concatenate((X, 20*np.random.rand(int(N/2), 2)))"
      ],
      "metadata": {
        "id": "LeR31Ft0nb9Y"
      },
      "execution_count": 258,
      "outputs": []
    },
    {
      "cell_type": "code",
      "source": [
        "X.shape"
      ],
      "metadata": {
        "colab": {
          "base_uri": "https://localhost:8080/"
        },
        "id": "0JH6g1HXnu3Y",
        "outputId": "ae281599-4a22-494a-9968-8009a8ea77f1"
      },
      "execution_count": 259,
      "outputs": [
        {
          "output_type": "execute_result",
          "data": {
            "text/plain": [
              "(1500, 2)"
            ]
          },
          "metadata": {},
          "execution_count": 259
        }
      ]
    },
    {
      "cell_type": "code",
      "source": [
        "X"
      ],
      "metadata": {
        "colab": {
          "base_uri": "https://localhost:8080/"
        },
        "id": "dvNKkIRjnwP5",
        "outputId": "bf9128aa-ff76-4e72-d10b-6831b913ea08"
      },
      "execution_count": 260,
      "outputs": [
        {
          "output_type": "execute_result",
          "data": {
            "text/plain": [
              "array([[ 3.0808485 , 13.94204621],\n",
              "       [ 4.83834929, 11.2600208 ],\n",
              "       [ 8.64150932, 13.10811583],\n",
              "       ...,\n",
              "       [17.10881966,  8.27100981],\n",
              "       [ 4.63522923,  4.47963684],\n",
              "       [ 7.45080691,  0.31260003]])"
            ]
          },
          "metadata": {},
          "execution_count": 260
        }
      ]
    },
    {
      "cell_type": "code",
      "source": [
        "y=np.concatenate((np.ones(int(N/2)), np.zeros(int(N/2))))"
      ],
      "metadata": {
        "id": "78InFYQLnyIH"
      },
      "execution_count": 261,
      "outputs": []
    },
    {
      "cell_type": "code",
      "source": [
        "y"
      ],
      "metadata": {
        "colab": {
          "base_uri": "https://localhost:8080/"
        },
        "id": "v1wFwEz1oEcA",
        "outputId": "7ce51118-d3c5-41ba-8820-805863ee253b"
      },
      "execution_count": 262,
      "outputs": [
        {
          "output_type": "execute_result",
          "data": {
            "text/plain": [
              "array([1., 1., 1., ..., 0., 0., 0.])"
            ]
          },
          "metadata": {},
          "execution_count": 262
        }
      ]
    },
    {
      "cell_type": "code",
      "source": [
        "plt.plot(X[:int(N/2), 0], X[:int(N/2),1], 'r+', X[int(N/2):,0],X[int(N/2):,1],'k.', ms=4)"
      ],
      "metadata": {
        "colab": {
          "base_uri": "https://localhost:8080/",
          "height": 465
        },
        "id": "R6Ix9urypJFg",
        "outputId": "11bd5e00-6f9e-4560-e45b-5725b92ee783"
      },
      "execution_count": 263,
      "outputs": [
        {
          "output_type": "execute_result",
          "data": {
            "text/plain": [
              "[<matplotlib.lines.Line2D at 0x7daa173249a0>,\n",
              " <matplotlib.lines.Line2D at 0x7daa17324a30>]"
            ]
          },
          "metadata": {},
          "execution_count": 263
        },
        {
          "output_type": "display_data",
          "data": {
            "text/plain": [
              "<Figure size 640x480 with 1 Axes>"
            ],
            "image/png": "[encoded data removed]"
          },
          "metadata": {}
        }
      ]
    },
    {
      "cell_type": "code",
      "source": [
        "X"
      ],
      "metadata": {
        "colab": {
          "base_uri": "https://localhost:8080/"
        },
        "id": "fHQ8ZFMspry6",
        "outputId": "f671f034-caee-4a96-a19d-d2a98d4e0f2f"
      },
      "execution_count": 264,
      "outputs": [
        {
          "output_type": "execute_result",
          "data": {
            "text/plain": [
              "array([[ 3.0808485 , 13.94204621],\n",
              "       [ 4.83834929, 11.2600208 ],\n",
              "       [ 8.64150932, 13.10811583],\n",
              "       ...,\n",
              "       [17.10881966,  8.27100981],\n",
              "       [ 4.63522923,  4.47963684],\n",
              "       [ 7.45080691,  0.31260003]])"
            ]
          },
          "metadata": {},
          "execution_count": 264
        }
      ]
    },
    {
      "cell_type": "code",
      "source": [
        "y"
      ],
      "metadata": {
        "id": "FSaapmwQqNuM",
        "outputId": "46aba1a1-8d65-4bf8-eb84-bc8b14a5e4b5",
        "colab": {
          "base_uri": "https://localhost:8080/"
        }
      },
      "execution_count": 265,
      "outputs": [
        {
          "output_type": "execute_result",
          "data": {
            "text/plain": [
              "array([1., 1., 1., ..., 0., 0., 0.])"
            ]
          },
          "metadata": {},
          "execution_count": 265
        }
      ]
    },
    {
      "cell_type": "code",
      "source": [
        "# your work = to create DT using the data here!"
      ],
      "metadata": {
        "id": "KNWmbwPgqPEx"
      },
      "execution_count": 266,
      "outputs": []
    },
    {
      "cell_type": "code",
      "source": [
        "from sklearn import tree"
      ],
      "metadata": {
        "id": "wCDw638ffffJ"
      },
      "execution_count": 267,
      "outputs": []
    },
    {
      "cell_type": "code",
      "source": [
        "clf=tree.DecisionTreeClassifier(criterion='entropy',max_depth=3)"
      ],
      "metadata": {
        "id": "Nu4sWa44fRLo"
      },
      "execution_count": 268,
      "outputs": []
    },
    {
      "cell_type": "code",
      "source": [
        "y"
      ],
      "metadata": {
        "colab": {
          "base_uri": "https://localhost:8080/"
        },
        "id": "xrvKvCtWflkB",
        "outputId": "b0e45b57-c07d-457e-a275-8a671bb2c1dc"
      },
      "execution_count": 269,
      "outputs": [
        {
          "output_type": "execute_result",
          "data": {
            "text/plain": [
              "array([1., 1., 1., ..., 0., 0., 0.])"
            ]
          },
          "metadata": {},
          "execution_count": 269
        }
      ]
    },
    {
      "cell_type": "code",
      "source": [
        "X"
      ],
      "metadata": {
        "colab": {
          "base_uri": "https://localhost:8080/"
        },
        "id": "GxzWDUEegFb4",
        "outputId": "81fa5d73-3924-476c-8e57-163b4152f50d"
      },
      "execution_count": 270,
      "outputs": [
        {
          "output_type": "execute_result",
          "data": {
            "text/plain": [
              "array([[ 3.0808485 , 13.94204621],\n",
              "       [ 4.83834929, 11.2600208 ],\n",
              "       [ 8.64150932, 13.10811583],\n",
              "       ...,\n",
              "       [17.10881966,  8.27100981],\n",
              "       [ 4.63522923,  4.47963684],\n",
              "       [ 7.45080691,  0.31260003]])"
            ]
          },
          "metadata": {},
          "execution_count": 270
        }
      ]
    },
    {
      "cell_type": "code",
      "source": [
        "clf"
      ],
      "metadata": {
        "colab": {
          "base_uri": "https://localhost:8080/",
          "height": 75
        },
        "id": "uh7O3-WJgLE9",
        "outputId": "bdc68d56-5deb-4ce1-b92b-ce15d2444e3d"
      },
      "execution_count": 271,
      "outputs": [
        {
          "output_type": "execute_result",
          "data": {
            "text/plain": [
              "DecisionTreeClassifier(criterion='entropy', max_depth=3)"
            ],
            "text/html": [
              "<style>#sk-container-id-9 {color: black;background-color: white;}#sk-container-id-9 pre{padding: 0;}#sk-container-id-9 div.sk-toggleable {background-color: white;}#sk-container-id-9 label.sk-toggleable__label {cursor: pointer;display: block;width: 100%;margin-bottom: 0;padding: 0.3em;box-sizing: border-box;text-align: center;}#sk-container-id-9 label.sk-toggleable__label-arrow:before {content: \"▸\";float: left;margin-right: 0.25em;color: #696969;}#sk-container-id-9 label.sk-toggleable__label-arrow:hover:before {color: black;}#sk-container-id-9 div.sk-estimator:hover label.sk-toggleable__label-arrow:before {color: black;}#sk-container-id-9 div.sk-toggleable__content {max-height: 0;max-width: 0;overflow: hidden;text-align: left;background-color: #f0f8ff;}#sk-container-id-9 div.sk-toggleable__content pre {margin: 0.2em;color: black;border-radius: 0.25em;background-color: #f0f8ff;}#sk-container-id-9 input.sk-toggleable__control:checked~div.sk-toggleable__content {max-height: 200px;max-width: 100%;overflow: auto;}#sk-container-id-9 input.sk-toggleable__control:checked~label.sk-toggleable__label-arrow:before {content: \"▾\";}#sk-container-id-9 div.sk-estimator input.sk-toggleable__control:checked~label.sk-toggleable__label {background-color: #d4ebff;}#sk-container-id-9 div.sk-label input.sk-toggleable__control:checked~label.sk-toggleable__label {background-color: #d4ebff;}#sk-container-id-9 input.sk-hidden--visually {border: 0;clip: rect(1px 1px 1px 1px);clip: rect(1px, 1px, 1px, 1px);height: 1px;margin: -1px;overflow: hidden;padding: 0;position: absolute;width: 1px;}#sk-container-id-9 div.sk-estimator {font-family: monospace;background-color: #f0f8ff;border: 1px dotted black;border-radius: 0.25em;box-sizing: border-box;margin-bottom: 0.5em;}#sk-container-id-9 div.sk-estimator:hover {background-color: #d4ebff;}#sk-container-id-9 div.sk-parallel-item::after {content: \"\";width: 100%;border-bottom: 1px solid gray;flex-grow: 1;}#sk-container-id-9 div.sk-label:hover label.sk-toggleable__label {background-color: #d4ebff;}#sk-container-id-9 div.sk-serial::before {content: \"\";position: absolute;border-left: 1px solid gray;box-sizing: border-box;top: 0;bottom: 0;left: 50%;z-index: 0;}#sk-container-id-9 div.sk-serial {display: flex;flex-direction: column;align-items: center;background-color: white;padding-right: 0.2em;padding-left: 0.2em;position: relative;}#sk-container-id-9 div.sk-item {position: relative;z-index: 1;}#sk-container-id-9 div.sk-parallel {display: flex;align-items: stretch;justify-content: center;background-color: white;position: relative;}#sk-container-id-9 div.sk-item::before, #sk-container-id-9 div.sk-parallel-item::before {content: \"\";position: absolute;border-left: 1px solid gray;box-sizing: border-box;top: 0;bottom: 0;left: 50%;z-index: -1;}#sk-container-id-9 div.sk-parallel-item {display: flex;flex-direction: column;z-index: 1;position: relative;background-color: white;}#sk-container-id-9 div.sk-parallel-item:first-child::after {align-self: flex-end;width: 50%;}#sk-container-id-9 div.sk-parallel-item:last-child::after {align-self: flex-start;width: 50%;}#sk-container-id-9 div.sk-parallel-item:only-child::after {width: 0;}#sk-container-id-9 div.sk-dashed-wrapped {border: 1px dashed gray;margin: 0 0.4em 0.5em 0.4em;box-sizing: border-box;padding-bottom: 0.4em;background-color: white;}#sk-container-id-9 div.sk-label label {font-family: monospace;font-weight: bold;display: inline-block;line-height: 1.2em;}#sk-container-id-9 div.sk-label-container {text-align: center;}#sk-container-id-9 div.sk-container {/* jupyter's `normalize.less` sets `[hidden] { display: none; }` but bootstrap.min.css set `[hidden] { display: none !important; }` so we also need the `!important` here to be able to override the default hidden behavior on the sphinx rendered scikit-learn.org. See: https://github.com/scikit-learn/scikit-learn/issues/21755 */display: inline-block !important;position: relative;}#sk-container-id-9 div.sk-text-repr-fallback {display: none;}</style><div id=\"sk-container-id-9\" class=\"sk-top-container\"><div class=\"sk-text-repr-fallback\"><pre>DecisionTreeClassifier(criterion=&#x27;entropy&#x27;, max_depth=3)</pre><b>In a Jupyter environment, please rerun this cell to show the HTML representation or trust the notebook. <br />On GitHub, the HTML representation is unable to render, please try loading this page with nbviewer.org.</b></div><div class=\"sk-container\" hidden><div class=\"sk-item\"><div class=\"sk-estimator sk-toggleable\"><input class=\"sk-toggleable__control sk-hidden--visually\" id=\"sk-estimator-id-9\" type=\"checkbox\" checked><label for=\"sk-estimator-id-9\" class=\"sk-toggleable__label sk-toggleable__label-arrow\">DecisionTreeClassifier</label><div class=\"sk-toggleable__content\"><pre>DecisionTreeClassifier(criterion=&#x27;entropy&#x27;, max_depth=3)</pre></div></div></div></div></div>"
            ]
          },
          "metadata": {},
          "execution_count": 271
        }
      ]
    },
    {
      "cell_type": "code",
      "source": [
        "clf=clf.fit(X,y)"
      ],
      "metadata": {
        "id": "V-OfRWXzh07K"
      },
      "execution_count": 272,
      "outputs": []
    },
    {
      "cell_type": "code",
      "source": [
        "clf"
      ],
      "metadata": {
        "colab": {
          "base_uri": "https://localhost:8080/",
          "height": 75
        },
        "id": "fLNt671Uh5pK",
        "outputId": "da274f50-8d66-4f6a-96d5-59575d2b4776"
      },
      "execution_count": 273,
      "outputs": [
        {
          "output_type": "execute_result",
          "data": {
            "text/plain": [
              "DecisionTreeClassifier(criterion='entropy', max_depth=3)"
            ],
            "text/html": [
              "<style>#sk-container-id-10 {color: black;background-color: white;}#sk-container-id-10 pre{padding: 0;}#sk-container-id-10 div.sk-toggleable {background-color: white;}#sk-container-id-10 label.sk-toggleable__label {cursor: pointer;display: block;width: 100%;margin-bottom: 0;padding: 0.3em;box-sizing: border-box;text-align: center;}#sk-container-id-10 label.sk-toggleable__label-arrow:before {content: \"▸\";float: left;margin-right: 0.25em;color: #696969;}#sk-container-id-10 label.sk-toggleable__label-arrow:hover:before {color: black;}#sk-container-id-10 div.sk-estimator:hover label.sk-toggleable__label-arrow:before {color: black;}#sk-container-id-10 div.sk-toggleable__content {max-height: 0;max-width: 0;overflow: hidden;text-align: left;background-color: #f0f8ff;}#sk-container-id-10 div.sk-toggleable__content pre {margin: 0.2em;color: black;border-radius: 0.25em;background-color: #f0f8ff;}#sk-container-id-10 input.sk-toggleable__control:checked~div.sk-toggleable__content {max-height: 200px;max-width: 100%;overflow: auto;}#sk-container-id-10 input.sk-toggleable__control:checked~label.sk-toggleable__label-arrow:before {content: \"▾\";}#sk-container-id-10 div.sk-estimator input.sk-toggleable__control:checked~label.sk-toggleable__label {background-color: #d4ebff;}#sk-container-id-10 div.sk-label input.sk-toggleable__control:checked~label.sk-toggleable__label {background-color: #d4ebff;}#sk-container-id-10 input.sk-hidden--visually {border: 0;clip: rect(1px 1px 1px 1px);clip: rect(1px, 1px, 1px, 1px);height: 1px;margin: -1px;overflow: hidden;padding: 0;position: absolute;width: 1px;}#sk-container-id-10 div.sk-estimator {font-family: monospace;background-color: #f0f8ff;border: 1px dotted black;border-radius: 0.25em;box-sizing: border-box;margin-bottom: 0.5em;}#sk-container-id-10 div.sk-estimator:hover {background-color: #d4ebff;}#sk-container-id-10 div.sk-parallel-item::after {content: \"\";width: 100%;border-bottom: 1px solid gray;flex-grow: 1;}#sk-container-id-10 div.sk-label:hover label.sk-toggleable__label {background-color: #d4ebff;}#sk-container-id-10 div.sk-serial::before {content: \"\";position: absolute;border-left: 1px solid gray;box-sizing: border-box;top: 0;bottom: 0;left: 50%;z-index: 0;}#sk-container-id-10 div.sk-serial {display: flex;flex-direction: column;align-items: center;background-color: white;padding-right: 0.2em;padding-left: 0.2em;position: relative;}#sk-container-id-10 div.sk-item {position: relative;z-index: 1;}#sk-container-id-10 div.sk-parallel {display: flex;align-items: stretch;justify-content: center;background-color: white;position: relative;}#sk-container-id-10 div.sk-item::before, #sk-container-id-10 div.sk-parallel-item::before {content: \"\";position: absolute;border-left: 1px solid gray;box-sizing: border-box;top: 0;bottom: 0;left: 50%;z-index: -1;}#sk-container-id-10 div.sk-parallel-item {display: flex;flex-direction: column;z-index: 1;position: relative;background-color: white;}#sk-container-id-10 div.sk-parallel-item:first-child::after {align-self: flex-end;width: 50%;}#sk-container-id-10 div.sk-parallel-item:last-child::after {align-self: flex-start;width: 50%;}#sk-container-id-10 div.sk-parallel-item:only-child::after {width: 0;}#sk-container-id-10 div.sk-dashed-wrapped {border: 1px dashed gray;margin: 0 0.4em 0.5em 0.4em;box-sizing: border-box;padding-bottom: 0.4em;background-color: white;}#sk-container-id-10 div.sk-label label {font-family: monospace;font-weight: bold;display: inline-block;line-height: 1.2em;}#sk-container-id-10 div.sk-label-container {text-align: center;}#sk-container-id-10 div.sk-container {/* jupyter's `normalize.less` sets `[hidden] { display: none; }` but bootstrap.min.css set `[hidden] { display: none !important; }` so we also need the `!important` here to be able to override the default hidden behavior on the sphinx rendered scikit-learn.org. See: https://github.com/scikit-learn/scikit-learn/issues/21755 */display: inline-block !important;position: relative;}#sk-container-id-10 div.sk-text-repr-fallback {display: none;}</style><div id=\"sk-container-id-10\" class=\"sk-top-container\"><div class=\"sk-text-repr-fallback\"><pre>DecisionTreeClassifier(criterion=&#x27;entropy&#x27;, max_depth=3)</pre><b>In a Jupyter environment, please rerun this cell to show the HTML representation or trust the notebook. <br />On GitHub, the HTML representation is unable to render, please try loading this page with nbviewer.org.</b></div><div class=\"sk-container\" hidden><div class=\"sk-item\"><div class=\"sk-estimator sk-toggleable\"><input class=\"sk-toggleable__control sk-hidden--visually\" id=\"sk-estimator-id-10\" type=\"checkbox\" checked><label for=\"sk-estimator-id-10\" class=\"sk-toggleable__label sk-toggleable__label-arrow\">DecisionTreeClassifier</label><div class=\"sk-toggleable__content\"><pre>DecisionTreeClassifier(criterion=&#x27;entropy&#x27;, max_depth=3)</pre></div></div></div></div></div>"
            ]
          },
          "metadata": {},
          "execution_count": 273
        }
      ]
    },
    {
      "cell_type": "code",
      "source": [
        "import pydotplus"
      ],
      "metadata": {
        "id": "msA9LEGogVF_"
      },
      "execution_count": 274,
      "outputs": []
    },
    {
      "cell_type": "code",
      "source": [
        "import numpy as np"
      ],
      "metadata": {
        "id": "pAmLANBdhgdy"
      },
      "execution_count": 275,
      "outputs": []
    },
    {
      "cell_type": "code",
      "source": [
        "from IPython.display import Image"
      ],
      "metadata": {
        "id": "gxsZIiO_gW-o"
      },
      "execution_count": 276,
      "outputs": []
    },
    {
      "cell_type": "code",
      "source": [
        "dot_data=tree.export_graphviz(clf,filled=True,out_file=None)"
      ],
      "metadata": {
        "id": "736Cc4cGgbBX"
      },
      "execution_count": 277,
      "outputs": []
    },
    {
      "cell_type": "code",
      "source": [
        "graph=pydotplus.graph_from_dot_data(dot_data)"
      ],
      "metadata": {
        "id": "EepE4aOAh98e"
      },
      "execution_count": 278,
      "outputs": []
    },
    {
      "cell_type": "code",
      "source": [
        "graph\n",
        "\n",
        "Image(graph.create_png())"
      ],
      "metadata": {
        "colab": {
          "base_uri": "https://localhost:8080/",
          "height": 514
        },
        "id": "thfX75FYiFF7",
        "outputId": "074c6139-cecc-4da2-f0ec-1cb6424dcd24"
      },
      "execution_count": 279,
      "outputs": [
        {
          "output_type": "execute_result",
          "data": {
            "image/png": "[encoded data removed]",
            "text/plain": [
              "<IPython.core.display.Image object>"
            ]
          },
          "metadata": {},
          "execution_count": 279
        }
      ]
    },
    {
      "cell_type": "code",
      "source": [
        "from sklearn.model_selection import train_test_split"
      ],
      "metadata": {
        "id": "_wazOP3KRBJi"
      },
      "execution_count": 280,
      "outputs": []
    },
    {
      "cell_type": "code",
      "source": [
        "X_train,X_test,y_train,y_test = train_test_split(X,y,test_size=0.2,random_state=11)"
      ],
      "metadata": {
        "id": "uoQHo-z0RclS"
      },
      "execution_count": 281,
      "outputs": []
    },
    {
      "cell_type": "code",
      "source": [
        "X_test"
      ],
      "metadata": {
        "colab": {
          "base_uri": "https://localhost:8080/"
        },
        "id": "Qv64S5hdw69g",
        "outputId": "04fc5cdd-8d74-432e-f1aa-245dcdf335a8"
      },
      "execution_count": 282,
      "outputs": [
        {
          "output_type": "execute_result",
          "data": {
            "text/plain": [
              "array([[ 3.31134502,  4.80515779],\n",
              "       [14.77799197, 11.64179938],\n",
              "       [10.82578046, 13.19637296],\n",
              "       [11.24067512, 19.58753367],\n",
              "       [ 4.92623802, 11.8648522 ],\n",
              "       [10.3028761 ,  1.54321204],\n",
              "       [10.04475314, 14.95542938],\n",
              "       [ 6.58291836, 14.21571156],\n",
              "       [15.20198544, 16.23006596],\n",
              "       [10.39943211,  8.28827114],\n",
              "       [ 9.95726609,  8.74756149],\n",
              "       [ 5.81499876, 12.653341  ],\n",
              "       [ 9.00922029,  5.92629444],\n",
              "       [ 5.4989445 , 14.03186611],\n",
              "       [19.23314157,  8.00921903],\n",
              "       [16.57602031, 15.55903938],\n",
              "       [ 6.83687699,  5.03183532],\n",
              "       [12.58881153, 15.97313402],\n",
              "       [16.02469328, 12.09638706],\n",
              "       [13.31178058,  6.90054257],\n",
              "       [ 3.59665946, 13.36971892],\n",
              "       [ 7.4666538 , 11.72494639],\n",
              "       [11.14625931, 19.51350507],\n",
              "       [ 8.06635318,  6.52052009],\n",
              "       [ 9.05772994, 13.83853122],\n",
              "       [19.45410953, 15.56636369],\n",
              "       [11.90399004,  3.5999704 ],\n",
              "       [ 8.09210691,  9.71934287],\n",
              "       [ 5.48374153, 15.27537988],\n",
              "       [10.40262578,  6.35737278],\n",
              "       [18.91358677, 14.73483111],\n",
              "       [13.57146411, 14.31813354],\n",
              "       [ 7.94255849,  8.6713085 ],\n",
              "       [ 9.12006177,  4.94134712],\n",
              "       [18.94357196, 18.9670477 ],\n",
              "       [13.49909826, 14.14796067],\n",
              "       [12.41371777, 19.18499686],\n",
              "       [18.0149255 ,  7.05651773],\n",
              "       [ 3.57568123,  0.32731459],\n",
              "       [17.13487732,  6.75545195],\n",
              "       [14.22624859,  5.6057607 ],\n",
              "       [18.05603557, 15.49899763],\n",
              "       [10.15573688,  6.81851538],\n",
              "       [17.00591231,  3.73244214],\n",
              "       [ 7.83226053,  2.69865558],\n",
              "       [11.93468334, 18.49653869],\n",
              "       [14.40914123, 15.80765564],\n",
              "       [19.35657257,  6.74353453],\n",
              "       [ 4.23644907,  8.13789424],\n",
              "       [10.43333335,  7.24488152],\n",
              "       [14.28169767,  8.71541209],\n",
              "       [ 3.83452129, 13.08910233],\n",
              "       [ 7.67645575,  6.15661692],\n",
              "       [ 7.15115221, 15.29468287],\n",
              "       [11.81169642,  6.54577636],\n",
              "       [17.71065483, 15.62538106],\n",
              "       [14.15400307, 13.53052702],\n",
              "       [11.12052236,  8.66868791],\n",
              "       [ 7.62839801, 15.40119986],\n",
              "       [13.67432022,  8.20299398],\n",
              "       [10.98483408, 14.06689737],\n",
              "       [13.37319708, 10.34472428],\n",
              "       [ 5.2412547 , 15.18736388],\n",
              "       [19.91618699, 11.63027365],\n",
              "       [10.4460527 ,  7.99858009],\n",
              "       [ 2.97093733, 11.55953935],\n",
              "       [17.54930158, 10.04629587],\n",
              "       [ 5.09406679, 13.43284025],\n",
              "       [ 5.62761213, 14.65559589],\n",
              "       [12.99919218, 11.04137898],\n",
              "       [ 9.99496263,  5.56194197],\n",
              "       [ 4.34658095, 13.92885184],\n",
              "       [10.16440881,  6.20618378],\n",
              "       [ 5.52355213, 14.37262115],\n",
              "       [ 8.23748773,  3.82942636],\n",
              "       [ 5.63194019, 12.35334172],\n",
              "       [13.16801707, 14.09870889],\n",
              "       [ 2.88254055, 13.59029824],\n",
              "       [11.96241819, 19.75524497],\n",
              "       [11.89792225, 19.39478702],\n",
              "       [12.14502475, 14.87816488],\n",
              "       [14.76940023, 11.71388028],\n",
              "       [15.29881766, 12.28678264],\n",
              "       [15.10680878, 16.05586571],\n",
              "       [ 6.79418882, 14.32051784],\n",
              "       [ 1.52260425,  5.28321807],\n",
              "       [16.51942419, 18.44184007],\n",
              "       [12.12718102,  6.69402215],\n",
              "       [ 7.49506559,  7.25361563],\n",
              "       [12.52979292,  6.76974053],\n",
              "       [ 9.47795237, 16.41078651],\n",
              "       [14.82589975, 14.26906145],\n",
              "       [ 9.52579795,  7.2782039 ],\n",
              "       [15.98217088, 16.74358656],\n",
              "       [15.93539925, 15.25127548],\n",
              "       [ 8.32552309, 10.94387396],\n",
              "       [ 6.62006552, 12.9755156 ],\n",
              "       [ 1.31659045, 14.30562438],\n",
              "       [11.50871767, 17.74647483],\n",
              "       [ 6.79731131,  4.94920387],\n",
              "       [ 5.63828815, 14.5549441 ],\n",
              "       [ 5.73103738, 13.01654049],\n",
              "       [18.55374121, 14.89367868],\n",
              "       [10.45179331,  4.43283335],\n",
              "       [ 0.29213205,  0.6689803 ],\n",
              "       [ 7.42403423, 12.16023677],\n",
              "       [ 4.44030097, 15.65596324],\n",
              "       [ 4.5400388 ,  2.27559264],\n",
              "       [12.81302344, 11.75102417],\n",
              "       [ 3.11346389,  2.65132716],\n",
              "       [ 7.64117837,  2.7096209 ],\n",
              "       [ 7.32440844, 14.92417035],\n",
              "       [13.79895754, 14.12784266],\n",
              "       [ 5.08802523, 11.45458487],\n",
              "       [ 2.75304356, 15.44944843],\n",
              "       [10.79029686,  3.488869  ],\n",
              "       [ 9.52624333,  4.69583048],\n",
              "       [ 4.55519843,  9.09025909],\n",
              "       [12.09468482,  6.32083457],\n",
              "       [ 9.47796406,  8.46249496],\n",
              "       [ 9.236659  , 17.47128143],\n",
              "       [14.78598538, 14.20876457],\n",
              "       [14.89218559, 18.62998143],\n",
              "       [13.32858383,  5.83119578],\n",
              "       [15.37341243,  3.80537912],\n",
              "       [18.44768154,  0.11334469],\n",
              "       [ 6.7020943 , 15.8741841 ],\n",
              "       [11.20263011,  3.67857978],\n",
              "       [19.20353563,  7.52537118],\n",
              "       [13.16448429, 15.37207554],\n",
              "       [ 0.17622412,  8.45195255],\n",
              "       [ 1.58530147, 10.58627714],\n",
              "       [16.85236192,  3.64532494],\n",
              "       [14.88377795, 12.9009222 ],\n",
              "       [15.20234478, 14.31525052],\n",
              "       [ 5.98985678,  4.86748722],\n",
              "       [ 9.44214036,  5.61382733],\n",
              "       [13.92163666, 10.16795297],\n",
              "       [17.20911586, 13.03665486],\n",
              "       [12.64712706, 15.44086297],\n",
              "       [14.63364877,  8.38435419],\n",
              "       [ 6.70169693,  2.69570033],\n",
              "       [ 6.48390408, 13.73168612],\n",
              "       [ 1.31628181,  5.80938612],\n",
              "       [ 6.51553272, 13.53167789],\n",
              "       [ 7.50637076, 11.02933948],\n",
              "       [ 5.90168648, 12.81336875],\n",
              "       [ 1.85812331, 11.56067382],\n",
              "       [13.22895953,  8.75447081],\n",
              "       [18.72375349,  6.51276824],\n",
              "       [11.36067737, 11.02129979],\n",
              "       [16.82281975,  0.94348352],\n",
              "       [10.41306872, 17.14663589],\n",
              "       [ 8.95141743,  5.39797024],\n",
              "       [ 1.76466494,  3.7452046 ],\n",
              "       [11.32763245, 12.9116298 ],\n",
              "       [12.50151834,  7.53315236],\n",
              "       [ 8.61542901, 17.42715668],\n",
              "       [ 6.20601215,  0.50723499],\n",
              "       [11.59148579, 13.00813434],\n",
              "       [10.78698007,  4.97024517],\n",
              "       [14.50222671,  7.11256112],\n",
              "       [ 9.05812805,  1.06824401],\n",
              "       [ 4.82259429, 12.1127525 ],\n",
              "       [17.91865118, 18.67461174],\n",
              "       [ 9.05881395, 14.62151417],\n",
              "       [ 6.40635355,  6.18897754],\n",
              "       [14.85577377, 13.92888901],\n",
              "       [ 5.1225415 , 14.59265735],\n",
              "       [19.6067732 , 17.01719308],\n",
              "       [ 6.93848519,  6.16992268],\n",
              "       [15.85420989, 19.33111488],\n",
              "       [ 2.4125576 ,  3.79113857],\n",
              "       [11.86758395,  5.07162396],\n",
              "       [18.14256322,  1.32847741],\n",
              "       [ 8.68874242, 10.08924277],\n",
              "       [ 0.12587613, 12.74521178],\n",
              "       [16.73923364, 12.82460915],\n",
              "       [ 5.16055085, 15.29002575],\n",
              "       [ 0.90075624, 15.91188248],\n",
              "       [ 8.03296507,  3.88809934],\n",
              "       [14.75385107, 18.51780216],\n",
              "       [15.18605306, 11.74022267],\n",
              "       [11.85320841,  4.80381106],\n",
              "       [17.42960897,  7.99081026],\n",
              "       [ 2.06204126,  2.42204847],\n",
              "       [16.52889082, 16.91208938],\n",
              "       [18.02853593,  6.47776604],\n",
              "       [17.91791145, 18.57986203],\n",
              "       [ 0.61189006,  3.17048583],\n",
              "       [ 4.69532645,  0.40729607],\n",
              "       [17.73560581, 13.65222753],\n",
              "       [ 5.9417967 ,  6.87234776],\n",
              "       [ 5.1641152 , 13.57930838],\n",
              "       [18.27252162,  6.71957424],\n",
              "       [11.18597713,  4.79827215],\n",
              "       [16.49963321, 17.9880678 ],\n",
              "       [15.19465906,  2.28706349],\n",
              "       [11.06106866, 11.20986759],\n",
              "       [ 1.72112328,  3.49282439],\n",
              "       [10.13702429, 19.6155155 ],\n",
              "       [ 5.69786961, 15.36244147],\n",
              "       [ 8.64150932, 13.10811583],\n",
              "       [16.22237477, 12.51922346],\n",
              "       [ 5.54856993, 14.76259512],\n",
              "       [18.14226854,  5.66865294],\n",
              "       [19.82669059, 17.12361819],\n",
              "       [18.23695907, 18.07046913],\n",
              "       [12.66375424,  5.98413163],\n",
              "       [ 6.57680473,  7.65221005],\n",
              "       [15.22580802,  6.71715262],\n",
              "       [13.32584674,  5.1375808 ],\n",
              "       [14.22177911, 15.48052386],\n",
              "       [ 5.26560698, 15.19942018],\n",
              "       [ 7.74843763, 14.33282924],\n",
              "       [10.47281214, 11.81467956],\n",
              "       [14.68957183, 16.29404636],\n",
              "       [ 1.89219904, 15.15210631],\n",
              "       [ 2.92278695, 15.0091486 ],\n",
              "       [ 3.10833047,  7.06492711],\n",
              "       [11.16414906,  3.60037109],\n",
              "       [17.08426577, 17.14710038],\n",
              "       [16.87649737, 11.83208197],\n",
              "       [17.43756599, 13.41951698],\n",
              "       [ 8.15382286,  7.27136001],\n",
              "       [ 5.87121292, 14.92227149],\n",
              "       [10.5496367 ,  5.83884674],\n",
              "       [13.28925457,  2.73955627],\n",
              "       [17.5505154 ,  0.48201821],\n",
              "       [ 9.15186335,  3.8576055 ],\n",
              "       [ 9.32030928,  6.64051053],\n",
              "       [ 3.93855126, 17.63396892],\n",
              "       [17.07491135, 16.86499555],\n",
              "       [12.60499382, 18.08606984],\n",
              "       [13.29852825,  3.86850293],\n",
              "       [13.90780323, 10.37126114],\n",
              "       [12.7128147 ,  4.15840844],\n",
              "       [11.38570796,  7.82231529],\n",
              "       [12.2650249 , 13.61744505],\n",
              "       [18.92993501, 14.66494376],\n",
              "       [11.73222894,  6.60256308],\n",
              "       [15.99987417,  6.31412626],\n",
              "       [13.49184419, 13.16874508],\n",
              "       [ 2.25767006,  1.87472752],\n",
              "       [18.75307307, 11.27140294],\n",
              "       [ 6.96877969,  4.63125021],\n",
              "       [17.85966377, 17.99664562],\n",
              "       [12.97408145, 12.54179041],\n",
              "       [11.82133328, 14.54419622],\n",
              "       [ 7.78838023, 13.79018776],\n",
              "       [10.43819972,  5.40359554],\n",
              "       [10.64316726,  4.53876661],\n",
              "       [ 5.32101807,  9.19024954],\n",
              "       [ 3.97305073, 12.83835103],\n",
              "       [13.23786177, 15.74643555],\n",
              "       [14.02847559,  9.64008753],\n",
              "       [14.43245284,  6.56946371],\n",
              "       [18.14119976,  5.0232418 ],\n",
              "       [15.7700957 ,  0.44847519],\n",
              "       [ 4.80150582, 14.79366286],\n",
              "       [10.63612014, 18.74235537],\n",
              "       [ 1.27192191, 14.56371278],\n",
              "       [ 7.36294152, 17.03400799],\n",
              "       [14.61267733,  4.31256249],\n",
              "       [ 8.97730017, 12.39161852],\n",
              "       [ 6.79852271,  8.32562423],\n",
              "       [ 5.79477558,  0.40077306],\n",
              "       [ 5.57764549, 13.98725876],\n",
              "       [ 9.28713565, 17.9339056 ],\n",
              "       [14.75655927,  6.37794018],\n",
              "       [14.1868411 , 10.27089045],\n",
              "       [ 2.55336695,  5.94157072],\n",
              "       [ 6.19285409, 19.08493668],\n",
              "       [10.03192675, 13.63985408],\n",
              "       [ 0.30099741,  8.15200396],\n",
              "       [13.5275484 , 14.3231342 ],\n",
              "       [12.27161385, 13.1617947 ],\n",
              "       [16.77742779,  1.38261709],\n",
              "       [ 8.17551704, 18.61041835],\n",
              "       [14.40678842,  8.2296399 ],\n",
              "       [ 4.51602759, 13.92734563],\n",
              "       [ 2.43776454,  9.43768207],\n",
              "       [17.69754438, 12.806526  ],\n",
              "       [19.22124308,  1.04487134],\n",
              "       [ 7.84071491, 17.01376733],\n",
              "       [ 1.26672037, 12.73230225],\n",
              "       [14.99286455, 12.21732042],\n",
              "       [12.94651002, 17.23142841],\n",
              "       [15.79922111,  1.76478479],\n",
              "       [12.17328801,  7.20960563],\n",
              "       [10.20746866,  3.34175901],\n",
              "       [ 5.33883102,  9.79185443],\n",
              "       [15.54710929, 16.19335141],\n",
              "       [ 7.34493878, 13.30670442],\n",
              "       [15.82455535, 14.94897253],\n",
              "       [11.30480662, 16.32086945],\n",
              "       [ 8.65192881, 10.1778148 ],\n",
              "       [12.04902386,  8.15546836],\n",
              "       [ 5.03991198, 11.54425349],\n",
              "       [19.60620801, 15.04734217]])"
            ]
          },
          "metadata": {},
          "execution_count": 282
        }
      ]
    },
    {
      "cell_type": "code",
      "source": [
        "y_test"
      ],
      "metadata": {
        "colab": {
          "base_uri": "https://localhost:8080/"
        },
        "id": "m8ty1fesxKJk",
        "outputId": "07e9fab8-48ef-4e56-c93f-1f7b12f65ded"
      },
      "execution_count": 298,
      "outputs": [
        {
          "output_type": "execute_result",
          "data": {
            "text/plain": [
              "array([0., 1., 1., 0., 0., 0., 1., 0., 0., 1., 1., 1., 1., 0., 0., 1., 0.,\n",
              "       1., 1., 1., 1., 1., 0., 1., 0., 0., 1., 1., 1., 1., 0., 1., 1., 1.,\n",
              "       0., 1., 0., 0., 0., 0., 1., 1., 1., 0., 0., 0., 1., 0., 0., 1., 0.,\n",
              "       0., 1., 1., 0., 0., 0., 1., 1., 0., 1., 0., 1., 0., 1., 1., 0., 1.,\n",
              "       1., 0., 1., 1., 1., 1., 1., 1., 0., 1., 0., 0., 1., 1., 0., 1., 1.,\n",
              "       0., 0., 0., 0., 0., 0., 1., 0., 0., 1., 0., 1., 0., 0., 1., 1., 1.,\n",
              "       0., 1., 0., 1., 1., 0., 0., 0., 0., 1., 1., 1., 0., 1., 0., 0., 1.,\n",
              "       0., 0., 1., 0., 1., 1., 0., 1., 1., 0., 1., 0., 0., 0., 1., 0., 0.,\n",
              "       1., 1., 1., 1., 0., 1., 1., 0., 0., 1., 1., 0., 0., 0., 0., 0., 0.,\n",
              "       1., 0., 0., 0., 0., 0., 1., 1., 0., 0., 1., 1., 1., 1., 0., 1., 0.,\n",
              "       1., 0., 0., 1., 0., 0., 0., 1., 1., 0., 1., 1., 1., 1., 0., 0., 1.,\n",
              "       0., 0., 0., 0., 1., 1., 1., 0., 1., 1., 0., 1., 0., 0., 1., 1., 0.,\n",
              "       1., 0., 0., 0., 1., 1., 0., 0., 1., 0., 1., 1., 1., 0., 0., 0., 0.,\n",
              "       0., 1., 1., 1., 1., 1., 0., 0., 1., 1., 0., 1., 0., 1., 0., 1., 1.,\n",
              "       0., 0., 1., 0., 0., 0., 0., 1., 0., 1., 1., 1., 1., 1., 1., 1., 1.,\n",
              "       1., 1., 0., 0., 1., 0., 0., 1., 0., 0., 1., 0., 1., 0., 0., 1., 0.,\n",
              "       0., 0., 0., 1., 1., 0., 1., 0., 1., 0., 1., 0., 1., 1., 1., 0., 0.,\n",
              "       1., 1., 1., 0., 0., 1., 0., 0., 1., 1., 0.])"
            ]
          },
          "metadata": {},
          "execution_count": 298
        }
      ]
    },
    {
      "cell_type": "code",
      "source": [
        "X_test.shape"
      ],
      "metadata": {
        "colab": {
          "base_uri": "https://localhost:8080/"
        },
        "id": "FwQjbM43SKPW",
        "outputId": "585888c1-45fd-4af8-abed-5d6dc634ef20"
      },
      "execution_count": 283,
      "outputs": [
        {
          "output_type": "execute_result",
          "data": {
            "text/plain": [
              "(300, 2)"
            ]
          },
          "metadata": {},
          "execution_count": 283
        }
      ]
    },
    {
      "cell_type": "code",
      "source": [
        "from sklearn import tree"
      ],
      "metadata": {
        "id": "Kt2TpFMnTIIq"
      },
      "execution_count": 284,
      "outputs": []
    },
    {
      "cell_type": "code",
      "source": [
        "from sklearn.metrics import accuracy_score"
      ],
      "metadata": {
        "id": "qVKkanGxTj7x"
      },
      "execution_count": 285,
      "outputs": []
    },
    {
      "cell_type": "code",
      "source": [
        "maxDepth=[2,3,4,5,6,7,8,9,10,15,20,25,30,35,40,45,50,55]"
      ],
      "metadata": {
        "id": "rtw7o2LnT1Mo"
      },
      "execution_count": 286,
      "outputs": []
    },
    {
      "cell_type": "code",
      "source": [
        "import numpy as np"
      ],
      "metadata": {
        "id": "0973W5TmUa6G"
      },
      "execution_count": 287,
      "outputs": []
    },
    {
      "cell_type": "code",
      "source": [
        "trainAccuracy=np.zeros(len(maxDepth))"
      ],
      "metadata": {
        "id": "9SX6fxv_USaX"
      },
      "execution_count": 288,
      "outputs": []
    },
    {
      "cell_type": "code",
      "source": [
        "trainAccuracy"
      ],
      "metadata": {
        "colab": {
          "base_uri": "https://localhost:8080/"
        },
        "id": "E2NTfciSUrN3",
        "outputId": "7ce4fb15-3ed7-4db0-bba5-9d8eb5dc28b7"
      },
      "execution_count": 289,
      "outputs": [
        {
          "output_type": "execute_result",
          "data": {
            "text/plain": [
              "array([0., 0., 0., 0., 0., 0., 0., 0., 0., 0., 0., 0., 0., 0., 0., 0., 0.,\n",
              "       0.])"
            ]
          },
          "metadata": {},
          "execution_count": 289
        }
      ]
    },
    {
      "cell_type": "code",
      "source": [
        "testAccuracy=np.zeros(len(maxDepth))"
      ],
      "metadata": {
        "id": "KziRsLhaUy7O"
      },
      "execution_count": 290,
      "outputs": []
    },
    {
      "cell_type": "code",
      "source": [
        "testAccuracy"
      ],
      "metadata": {
        "colab": {
          "base_uri": "https://localhost:8080/"
        },
        "id": "GOckRHZJU83m",
        "outputId": "971105f7-4338-45f9-c8b6-a690cdca2bf2"
      },
      "execution_count": 291,
      "outputs": [
        {
          "output_type": "execute_result",
          "data": {
            "text/plain": [
              "array([0., 0., 0., 0., 0., 0., 0., 0., 0., 0., 0., 0., 0., 0., 0., 0., 0.,\n",
              "       0.])"
            ]
          },
          "metadata": {},
          "execution_count": 291
        }
      ]
    },
    {
      "cell_type": "code",
      "source": [
        "index=0"
      ],
      "metadata": {
        "id": "wjl0c0NYU_dl"
      },
      "execution_count": 292,
      "outputs": []
    },
    {
      "cell_type": "code",
      "source": [
        "for depth in maxDepth:\n",
        "  # Initialize the Decision Tree Classifier with a specific maximum depth\n",
        "  clf=tree.DecisionTreeClassifier(max_depth=depth)\n",
        "  # Train the classifier on the training data\n",
        "  clf=clf.fit(X_train,y_train)\n",
        "  # Predict the training set labels to evaluate how well the model is fitting the training data\n",
        "  y_predictTrain=clf.predict(X_train)\n",
        "  # Predict the test set labels to evaluate how well the model generalizes to unseen data\n",
        "  y_predictTest=clf.predict(X_test)\n",
        "  # Calculate and store the accuracy of the model on the training dataset\n",
        "  # This measures how well the model has learned from the training data\n",
        "  trainAccuracy[index]=accuracy_score(y_train,y_predictTrain)\n",
        "  # Calculate and store the accuracy of the model on the test dataset\n",
        "# This measures how well the model can predict new, unseen data\n",
        "  testAccuracy[index]=accuracy_score(y_test,y_predictTest)\n",
        "  # Increment the index to store the next experiment's results in the next position\n",
        "# Useful for tracking accuracies across different values of max_depth in a loop\n",
        "  index +=1"
      ],
      "metadata": {
        "id": "OGMzwau6VK79"
      },
      "execution_count": 293,
      "outputs": []
    },
    {
      "cell_type": "code",
      "source": [
        "testAccuracy"
      ],
      "metadata": {
        "colab": {
          "base_uri": "https://localhost:8080/"
        },
        "id": "bORes_uvYpZt",
        "outputId": "7971d8dc-e77a-469d-edcf-31010b0b0e3b"
      },
      "execution_count": 294,
      "outputs": [
        {
          "output_type": "execute_result",
          "data": {
            "text/plain": [
              "array([0.63333333, 0.68333333, 0.73      , 0.74333333, 0.71666667,\n",
              "       0.71333333, 0.72333333, 0.71      , 0.7       , 0.67      ,\n",
              "       0.64333333, 0.64333333, 0.64      , 0.65666667, 0.65333333,\n",
              "       0.64666667, 0.64333333, 0.63666667])"
            ]
          },
          "metadata": {},
          "execution_count": 294
        }
      ]
    },
    {
      "cell_type": "code",
      "source": [
        "trainAccuracy"
      ],
      "metadata": {
        "colab": {
          "base_uri": "https://localhost:8080/"
        },
        "id": "CloN4tPsYut0",
        "outputId": "25827cf5-ed58-4bb9-d543-a309669657e9"
      },
      "execution_count": 295,
      "outputs": [
        {
          "output_type": "execute_result",
          "data": {
            "text/plain": [
              "array([0.63416667, 0.6875    , 0.7225    , 0.7275    , 0.75833333,\n",
              "       0.79416667, 0.8025    , 0.83      , 0.84583333, 0.94833333,\n",
              "       0.98666667, 1.        , 1.        , 1.        , 1.        ,\n",
              "       1.        , 1.        , 1.        ])"
            ]
          },
          "metadata": {},
          "execution_count": 295
        }
      ]
    },
    {
      "cell_type": "code",
      "source": [
        "import matplotlib.pyplot as plt\n",
        "import matplotlib_inline"
      ],
      "metadata": {
        "id": "wYzOKpILZN3c"
      },
      "execution_count": 296,
      "outputs": []
    },
    {
      "cell_type": "code",
      "source": [
        "# Plot training accuracy in red with circle markers\n",
        "# Plot test accuracy in blue with triangle down markers\n",
        "plt.plot(maxDepth,trainAccuracy,'ro-',maxDepth,testAccuracy,'bv-')\n",
        "plt.legend(['trainaccuracy', 'testaccuracy'])\n",
        "# Label the x-axis as \"maxDepth\"\n",
        "plt.xlabel('maxDepth')\n",
        "# Label the x-axis as \"Accuracy\"\n",
        "plt.ylabel('Accuracy')"
      ],
      "metadata": {
        "colab": {
          "base_uri": "https://localhost:8080/",
          "height": 466
        },
        "id": "nBC97xFNZbYc",
        "outputId": "637d330d-c1c0-4e34-924e-9b9663085864"
      },
      "execution_count": 297,
      "outputs": [
        {
          "output_type": "execute_result",
          "data": {
            "text/plain": [
              "Text(0, 0.5, 'Accuracy')"
            ]
          },
          "metadata": {},
          "execution_count": 297
        },
        {
          "output_type": "display_data",
          "data": {
            "text/plain": [
              "<Figure size 640x480 with 1 Axes>"
            ],
            "image/png": "[encoded data removed]"
          },
          "metadata": {}
        }
      ]
    },
    {
      "cell_type": "markdown",
      "source": [
        "Exporting and Downloading the X values from google colab in form of an excel sheet for me to perform linear regression in excel."
      ],
      "metadata": {
        "id": "T-FBNgGkzayX"
      }
    },
    {
      "cell_type": "code",
      "source": [
        "!pip install openpyxl\n"
      ],
      "metadata": {
        "colab": {
          "base_uri": "https://localhost:8080/"
        },
        "id": "AGZV1Ma2yJGD",
        "outputId": "9e9a7d31-2fee-4c9d-da61-46df8d4766ac"
      },
      "execution_count": 300,
      "outputs": [
        {
          "output_type": "stream",
          "name": "stdout",
          "text": [
            "Requirement already satisfied: openpyxl in /usr/local/lib/python3.10/dist-packages (3.1.2)\n",
            "Requirement already satisfied: et-xmlfile in /usr/local/lib/python3.10/dist-packages (from openpyxl) (1.1.0)\n"
          ]
        }
      ]
    },
    {
      "cell_type": "code",
      "source": [
        "import pandas as pd\n",
        "\n",
        "# Assuming 'X' is your NumPy array containing the data\n",
        "df = pd.DataFrame(X)\n",
        "\n",
        "# Export the DataFrame to an Excel file\n",
        "df.to_excel('Linear.xlsx', index=False)\n"
      ],
      "metadata": {
        "id": "D3u4TiWkydcg"
      },
      "execution_count": 305,
      "outputs": []
    },
    {
      "cell_type": "code",
      "source": [
        "from google.colab import files\n",
        "files.download('Linear.xlsx')\n"
      ],
      "metadata": {
        "colab": {
          "base_uri": "https://localhost:8080/",
          "height": 17
        },
        "id": "pqjLXINczPH3",
        "outputId": "1dcb27b2-6d1d-48c7-839e-055dddff7111"
      },
      "execution_count": 306,
      "outputs": [
        {
          "output_type": "display_data",
          "data": {
            "text/plain": [
              "<IPython.core.display.Javascript object>"
            ],
            "application/javascript": [
              "\n",
              "    async function download(id, filename, size) {\n",
              "      if (!google.colab.kernel.accessAllowed) {\n",
              "        return;\n",
              "      }\n",
              "      const div = document.createElement('div');\n",
              "      const label = document.createElement('label');\n",
              "      label.textContent = `Downloading \"${filename}\": `;\n",
              "      div.appendChild(label);\n",
              "      const progress = document.createElement('progress');\n",
              "      progress.max = size;\n",
              "      div.appendChild(progress);\n",
              "      document.body.appendChild(div);\n",
              "\n",
              "      const buffers = [];\n",
              "      let downloaded = 0;\n",
              "\n",
              "      const channel = await google.colab.kernel.comms.open(id);\n",
              "      // Send a message to notify the kernel that we're ready.\n",
              "      channel.send({})\n",
              "\n",
              "      for await (const message of channel.messages) {\n",
              "        // Send a message to notify the kernel that we're ready.\n",
              "        channel.send({})\n",
              "        if (message.buffers) {\n",
              "          for (const buffer of message.buffers) {\n",
              "            buffers.push(buffer);\n",
              "            downloaded += buffer.byteLength;\n",
              "            progress.value = downloaded;\n",
              "          }\n",
              "        }\n",
              "      }\n",
              "      const blob = new Blob(buffers, {type: 'application/binary'});\n",
              "      const a = document.createElement('a');\n",
              "      a.href = window.URL.createObjectURL(blob);\n",
              "      a.download = filename;\n",
              "      div.appendChild(a);\n",
              "      a.click();\n",
              "      div.remove();\n",
              "    }\n",
              "  "
            ]
          },
          "metadata": {}
        },
        {
          "output_type": "display_data",
          "data": {
            "text/plain": [
              "<IPython.core.display.Javascript object>"
            ],
            "application/javascript": [
              "download(\"download_8408b1e7-0afc-48a9-9e67-5983984f9b7f\", \"Linear.xlsx\", 48030)"
            ]
          },
          "metadata": {}
        }
      ]
    }
  ]
}